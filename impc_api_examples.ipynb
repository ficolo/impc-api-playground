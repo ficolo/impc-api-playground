{
 "cells": [
  {
   "cell_type": "markdown",
   "metadata": {
    "pycharm": {
     "name": "#%% md\n"
    }
   },
   "source": [
    "# Mouse Phenotype API\n",
    "\n",
    "Example queries and simple data processing for the [mousephenotype.org](mousephenotype.org) API.\n",
    "\n",
    "## Endpoints\n",
    "\n",
    "- `/genes`: Gene search endpoint\n",
    "- `/geneBundles`: Gene bundled data endpoint"
   ]
  },
  {
   "cell_type": "markdown",
   "metadata": {
    "pycharm": {
     "name": "#%% md\n"
    }
   },
   "source": [
    "## Example queries"
   ]
  },
  {
   "cell_type": "markdown",
   "metadata": {
    "pycharm": {
     "name": "#%% md\n"
    }
   },
   "source": [
    "### Setting things up"
   ]
  },
  {
   "cell_type": "code",
   "execution_count": null,
   "metadata": {
    "pycharm": {
     "name": "#%%\n"
    }
   },
   "outputs": [],
   "source": [
    "import requests\n",
    "from IPython.display import HTML, display\n",
    "import tabulate\n",
    "from tqdm.notebook import trange\n",
    "\n",
    "impc_api_url = \"http://localhost:8080\"\n",
    "impc_api_search_url = f\"{impc_api_url}/genes\"\n",
    "impc_api_gene_bundle_url = f\"{impc_api_url}/geneBundles\""
   ]
  },
  {
   "cell_type": "markdown",
   "metadata": {
    "pycharm": {
     "name": "#%% md\n"
    }
   },
   "source": [
    "### 1. Extract all measured phenotypes related to this gene\n",
    "Using [Cib2 - MGI:1929293](https://www.mousephenotype.org/data/genes/MGI:1929293)\n",
    "> Hint 💡: For any query that relies directly on an MGI Accession ID you can use the `/geneBundles` endpoint directly."
   ]
  },
  {
   "cell_type": "code",
   "execution_count": null,
   "metadata": {
    "pycharm": {
     "name": "#%%\n"
    }
   },
   "outputs": [],
   "source": [
    "mgi_accession_id = \"MGI:1929293\"\n",
    "\n",
    "# https://www.gentar.org/impc-dev-api/geneBundles/MGI:1929293\n",
    "gene_bundle_url = f\"{impc_api_gene_bundle_url}/{mgi_accession_id}\"\n",
    "gene_bundle =  requests.get(gene_bundle_url).json()"
   ]
  },
  {
   "cell_type": "markdown",
   "metadata": {
    "pycharm": {
     "name": "#%% md\n"
    }
   },
   "source": [
    "### 2. Extract all genes related to a phenotype **and** 3. Extract all genes having a particular phenotype or a set of phenotypes (e.g. relevant to a disease)\n",
    "\n",
    "Using increased basophil cell number ([MP:0002606](https://www.mousephenotype.org/data/phenotypes/MP:0002606)) and increased circulating cholesterol level\n",
    " [MP:0005178](https://www.mousephenotype.org/data/phenotypes/MP:0005178))\n",
    "> Hint 💡: For any query that needs to perform a search you'll need to hit the `/genes` first and get the bundles URLs from the response to get the actual data."
   ]
  },
  {
   "cell_type": "code",
   "execution_count": null,
   "metadata": {
    "pycharm": {
     "name": "#%%\n"
    }
   },
   "outputs": [
    {
     "name": "stdout",
     "output_type": "stream",
     "text": [
      "Genes with ['MP:0002606', 'MP:0005178']: 278\n"
     ]
    },
    {
     "data": {
      "text/plain": "<IPython.core.display.HTML object>",
      "text/html": "<table>\n<thead>\n<tr><th>gene_accession_id  </th><th>gene_name                                                      </th><th>gene_bundle_url                              </th></tr>\n</thead>\n<tbody>\n<tr><td>MGI:108086         </td><td>histone deacetylase 1                                          </td><td>http://localhost:8080/geneBundles/MGI:108086 </td></tr>\n<tr><td>MGI:108404         </td><td>amyloid beta (A4) precursor protein-binding, family B, member 3</td><td>http://localhost:8080/geneBundles/MGI:108404 </td></tr>\n<tr><td>MGI:102784         </td><td>transforming growth factor beta 1 induced transcript 1         </td><td>http://localhost:8080/geneBundles/MGI:102784 </td></tr>\n<tr><td>MGI:105985         </td><td>a disintegrin and metallopeptidase domain 26A (testase 3)      </td><td>http://localhost:8080/geneBundles/MGI:105985 </td></tr>\n<tr><td>MGI:1914743        </td><td>methyltransferase like 16                                      </td><td>http://localhost:8080/geneBundles/MGI:1914743</td></tr>\n<tr><td>MGI:107567         </td><td>immunity-related GTPase family M member 1                      </td><td>http://localhost:8080/geneBundles/MGI:107567 </td></tr>\n<tr><td>MGI:109128         </td><td>hepatic nuclear factor 4, alpha                                </td><td>http://localhost:8080/geneBundles/MGI:109128 </td></tr>\n<tr><td>MGI:1917084        </td><td>RAB43, member RAS oncogene family                              </td><td>http://localhost:8080/geneBundles/MGI:1917084</td></tr>\n<tr><td>MGI:107628         </td><td>PR domain containing 2, with ZNF domain                        </td><td>http://localhost:8080/geneBundles/MGI:107628 </td></tr>\n<tr><td>MGI:1346879        </td><td>mitogen-activated protein kinase kinase kinase 10              </td><td>http://localhost:8080/geneBundles/MGI:1346879</td></tr>\n<tr><td>MGI:101947         </td><td>heterogeneous nuclear ribonucleoprotein D                      </td><td>http://localhost:8080/geneBundles/MGI:101947 </td></tr>\n<tr><td>MGI:1352501        </td><td>breast cancer anti-estrogen resistance 3                       </td><td>http://localhost:8080/geneBundles/MGI:1352501</td></tr>\n<tr><td>MGI:1916942        </td><td>HD domain containing 2                                         </td><td>http://localhost:8080/geneBundles/MGI:1916942</td></tr>\n<tr><td>MGI:1337063        </td><td>adaptor-related protein complex AP-4, mu 1                     </td><td>http://localhost:8080/geneBundles/MGI:1337063</td></tr>\n<tr><td>MGI:103063         </td><td>signal transducer and activator of transcription 1             </td><td>http://localhost:8080/geneBundles/MGI:103063 </td></tr>\n<tr><td>MGI:2651854        </td><td>autophagy related 4C, cysteine peptidase                       </td><td>http://localhost:8080/geneBundles/MGI:2651854</td></tr>\n<tr><td>MGI:1918112        </td><td>spermatogenesis associated 16                                  </td><td>http://localhost:8080/geneBundles/MGI:1918112</td></tr>\n<tr><td>MGI:1919924        </td><td>adiponectin receptor 1                                         </td><td>http://localhost:8080/geneBundles/MGI:1919924</td></tr>\n<tr><td>MGI:1351340        </td><td>glutamate receptor, metabotropic 3                             </td><td>http://localhost:8080/geneBundles/MGI:1351340</td></tr>\n<tr><td>MGI:2442403        </td><td>serine/threonine kinase 32A                                    </td><td>http://localhost:8080/geneBundles/MGI:2442403</td></tr>\n</tbody>\n</table>"
     },
     "metadata": {},
     "output_type": "display_data"
    }
   ],
   "source": [
    "target_mp_terms = ['MP:0002606', 'MP:0005178']\n",
    "\n",
    "## All the data is paginated using the page and size parameters, by default the endpoint returns the first 20 hits\n",
    "gene_by_phenotypes_query = f\"{impc_api_search_url}/search/findAllBySignificantMpTermIdsContains?mpTermIds={','.join(target_mp_terms)}&page=0&size=20\"\n",
    "genes_with_clinical_chemistry_phenotypes = requests.get(gene_by_phenotypes_query).json()\n",
    "print(f\"Genes with {target_mp_terms}: {genes_with_clinical_chemistry_phenotypes['page']['totalElements']}\")\n",
    "list_of_genes = []\n",
    "\n",
    "for gene in genes_with_clinical_chemistry_phenotypes['_embedded']['genes']:\n",
    "    gene_dict = {\"gene_accession_id\": gene['mgiAccessionId'], \"gene_name\": gene['markerName'], \"gene_bundle_url\": gene[\"_links\"][\"geneBundle\"]['href']}\n",
    "    list_of_genes.append(gene_dict)\n",
    "\n",
    "display(HTML(tabulate.tabulate([i.values() for i in list_of_genes], headers=list_of_genes[0].keys(), tablefmt='html')))"
   ]
  },
  {
   "cell_type": "markdown",
   "metadata": {
    "pycharm": {
     "name": "#%% md\n"
    }
   },
   "source": [
    "### 4. Extract all phenotypes which are present in a particular gene set (e.g. genes together in a pathway)\n",
    "Using [MGI:2444773](https://www.mousephenotype.org/data/genes/MGI:2444773), [MGI:1351500](https://www.mousephenotype.org/data/genes/MGI:1351500), [MGI:2157522](https://www.mousephenotype.org/data/genes/MGI:2157522), [MGI:2141861](https://www.mousephenotype.org/data/genes/MGI:2141861), [MGI:3588194](https://www.mousephenotype.org/data/genes/MGI:3588194), [MGI:1918313](https://www.mousephenotype.org/data/genes/MGI:1918313), [MGI:2444431](https://www.mousephenotype.org/data/genes/MGI:2444431), [MGI:1913658](https://www.mousephenotype.org/data/genes/MGI:1913658), [MGI:1922354](https://www.mousephenotype.org/data/genes/MGI:1922354), [MGI:1917336](https://www.mousephenotype.org/data/genes/MGI:1917336).\n",
    "> Hint 💡: The light-weight `/genes` endpoint contains all the searchable fields, if you don't need any extra data there is no need to use the heavy-weight `/geneBundles` endpoint."
   ]
  },
  {
   "cell_type": "code",
   "execution_count": null,
   "metadata": {
    "pycharm": {
     "name": "#%%\n"
    }
   },
   "outputs": [
    {
     "data": {
      "text/plain": "<IPython.core.display.HTML object>",
      "text/html": "<table>\n<thead>\n<tr><th>mp_term                                       </th><th>genes                                        </th></tr>\n</thead>\n<tbody>\n<tr><td>decreased bone mineral density                </td><td>[&#x27;MGI:2444773&#x27;, &#x27;MGI:3588194&#x27;, &#x27;MGI:1913658&#x27;]</td></tr>\n<tr><td>decreased bone mineral content                </td><td>[&#x27;MGI:2444773&#x27;, &#x27;MGI:3588194&#x27;, &#x27;MGI:1913658&#x27;]</td></tr>\n<tr><td>abnormal bone structure                       </td><td>[&#x27;MGI:3588194&#x27;]                              </td></tr>\n<tr><td>impaired glucose tolerance                    </td><td>[&#x27;MGI:3588194&#x27;]                              </td></tr>\n<tr><td>increased effector memory T-helper cell number</td><td>[&#x27;MGI:3588194&#x27;]                              </td></tr>\n<tr><td>male infertility                              </td><td>[&#x27;MGI:3588194&#x27;]                              </td></tr>\n<tr><td>decreased lean body mass                      </td><td>[&#x27;MGI:3588194&#x27;]                              </td></tr>\n<tr><td>short tibia                                   </td><td>[&#x27;MGI:3588194&#x27;]                              </td></tr>\n<tr><td>abnormal rib morphology                       </td><td>[&#x27;MGI:3588194&#x27;]                              </td></tr>\n<tr><td>defective growth and differentiation process  </td><td>[&#x27;MGI:3588194&#x27;]                              </td></tr>\n<tr><td>preweaning lethality, incomplete penetrance   </td><td>[&#x27;MGI:3588194&#x27;]                              </td></tr>\n<tr><td>increased total body fat amount               </td><td>[&#x27;MGI:3588194&#x27;]                              </td></tr>\n<tr><td>osteopenia                                    </td><td>[&#x27;MGI:3588194&#x27;]                              </td></tr>\n<tr><td>hypoplasia                                    </td><td>[&#x27;MGI:3588194&#x27;]                              </td></tr>\n<tr><td>hyperactivity                                 </td><td>[&#x27;MGI:3588194&#x27;]                              </td></tr>\n<tr><td>developmental and structural abnormality      </td><td>[&#x27;MGI:3588194&#x27;]                              </td></tr>\n<tr><td>female infertility                            </td><td>[&#x27;MGI:3588194&#x27;]                              </td></tr>\n<tr><td>iris synechia                                 </td><td>[&#x27;MGI:1918313&#x27;]                              </td></tr>\n<tr><td>decreased startle reflex                      </td><td>[&#x27;MGI:2444431&#x27;]                              </td></tr>\n<tr><td>increased vertical activity                   </td><td>[&#x27;MGI:2444431&#x27;]                              </td></tr>\n<tr><td>abnormal auditory brainstem response          </td><td>[&#x27;MGI:2444431&#x27;]                              </td></tr>\n<tr><td>abnormal startle reflex                       </td><td>[&#x27;MGI:2444431&#x27;]                              </td></tr>\n<tr><td>decreased thigmotaxis                         </td><td>[&#x27;MGI:2444431&#x27;]                              </td></tr>\n<tr><td>abnormal behavior                             </td><td>[&#x27;MGI:2444431&#x27;]                              </td></tr>\n<tr><td>cataract                                      </td><td>[&#x27;MGI:1913658&#x27;]                              </td></tr>\n<tr><td>persistence of hyaloid vascular system        </td><td>[&#x27;MGI:1913658&#x27;]                              </td></tr>\n<tr><td>abnormal kidney morphology                    </td><td>[&#x27;MGI:1917336&#x27;]                              </td></tr>\n<tr><td>abnormal liver morphology                     </td><td>[&#x27;MGI:1917336&#x27;]                              </td></tr>\n<tr><td>enlarged heart                                </td><td>[&#x27;MGI:1917336&#x27;, &#x27;MGI:2141861&#x27;]               </td></tr>\n<tr><td>small kidney                                  </td><td>[&#x27;MGI:1917336&#x27;]                              </td></tr>\n<tr><td>small liver                                   </td><td>[&#x27;MGI:1917336&#x27;]                              </td></tr>\n<tr><td>abnormal heart morphology                     </td><td>[&#x27;MGI:1917336&#x27;, &#x27;MGI:2141861&#x27;]               </td></tr>\n<tr><td>increased food intake                         </td><td>[&#x27;MGI:2157522&#x27;]                              </td></tr>\n<tr><td>abnormal pericardium morphology               </td><td>[&#x27;MGI:2157522&#x27;]                              </td></tr>\n<tr><td>increased lean body mass                      </td><td>[&#x27;MGI:2157522&#x27;]                              </td></tr>\n<tr><td>embryonic lethality prior to organogenesis    </td><td>[&#x27;MGI:2157522&#x27;, &#x27;MGI:2141861&#x27;]               </td></tr>\n<tr><td>increased bone mineral density                </td><td>[&#x27;MGI:2157522&#x27;]                              </td></tr>\n<tr><td>abnormal embryo turning                       </td><td>[&#x27;MGI:2157522&#x27;]                              </td></tr>\n<tr><td>preweaning lethality, complete penetrance     </td><td>[&#x27;MGI:2157522&#x27;]                              </td></tr>\n<tr><td>abnormal spleen morphology                    </td><td>[&#x27;MGI:2157522&#x27;]                              </td></tr>\n<tr><td>increased respiratory quotient                </td><td>[&#x27;MGI:2157522&#x27;]                              </td></tr>\n<tr><td>abnormal cecum morphology                     </td><td>[&#x27;MGI:2141861&#x27;]                              </td></tr>\n<tr><td>embryonic lethality prior to tooth bud stage  </td><td>[&#x27;MGI:2141861&#x27;]                              </td></tr>\n<tr><td>enlarged cecum                                </td><td>[&#x27;MGI:2141861&#x27;]                              </td></tr>\n<tr><td>small superior vagus ganglion                 </td><td>[&#x27;MGI:2141861&#x27;]                              </td></tr>\n<tr><td>hydrometra                                    </td><td>[&#x27;MGI:2141861&#x27;]                              </td></tr>\n</tbody>\n</table>"
     },
     "metadata": {},
     "output_type": "display_data"
    }
   ],
   "source": [
    "target_genes = ['MGI:2444773', 'MGI:2444773', 'MGI:2157522', 'MGI:2141861', 'MGI:3588194', 'MGI:1918313', 'MGI:2444431', 'MGI:1913658', 'MGI:1922354', 'MGI:1917336']\n",
    "\n",
    "genes_in_gene_list_query = f\"{impc_api_search_url}/search/findAllByMgiAccessionIdIn?mgiAccessionIds={','.join(target_genes)}\"\n",
    "\n",
    "genes_in_gene_list = requests.get(genes_in_gene_list_query).json()\n",
    "list_of_mp_terms_vs_gene_index = {}\n",
    "\n",
    "for gene in genes_in_gene_list['_embedded']['genes']:\n",
    "    mp_terms = gene['significantMpTerms']\n",
    "    gene_acc_id = gene[\"mgiAccessionId\"]\n",
    "    if mp_terms is None:\n",
    "        continue\n",
    "    for mp_term in mp_terms:\n",
    "        mp_term_name = mp_term['mpTermName']\n",
    "        if mp_term_name not in list_of_mp_terms_vs_gene_index:\n",
    "            list_of_mp_terms_vs_gene_index[mp_term_name] = {\"mp_term\": mp_term_name, \"genes\": []}\n",
    "        list_of_mp_terms_vs_gene_index[mp_term_name][\"genes\"].append(gene_acc_id)\n",
    "genes_by_mp_term = list(list_of_mp_terms_vs_gene_index.values())\n",
    "display(HTML(tabulate.tabulate([i.values() for i in genes_by_mp_term], headers=genes_by_mp_term[0].keys(), tablefmt='html')))"
   ]
  },
  {
   "cell_type": "markdown",
   "metadata": {
    "pycharm": {
     "name": "#%% md\n"
    }
   },
   "source": [
    "## 7. Extract images with a particular phenotype or a set of phenotypes and 8. How many images are available with a particular phenotype (Way to access: Phenotype2Gene2Images)\n",
    "> Warning ⚠️: The IMPC data has not direct relationship between images and phenotypes, but it is possible to get all the images related to all the genes that have a significant hit for a given phenotype.\n",
    "> Hint 💡: The images live inside each individual gene-bundle under the field `geneImages`. The easiest way to query images by phenotype is first hitting the `genes` endpoint to\n",
    "Using *abnormal femur morphology* ([MP:0000559](https://www.mousephenotype.org/data/phenotypes/MP:0000559)) and abnormal digit morphology\n",
    " [MP:0002110](https://www.mousephenotype.org/data/phenotypes/MP:0002110))\n",
    "\n",
    "### First let's get the genes from the light-weight `/genes` endpoint:"
   ]
  },
  {
   "cell_type": "code",
   "execution_count": null,
   "metadata": {
    "pycharm": {
     "name": "#%%\n"
    }
   },
   "outputs": [
    {
     "name": "stdout",
     "output_type": "stream",
     "text": [
      "Genes with ['MP:0002110', 'MP:0000559']: 57\n"
     ]
    }
   ],
   "source": [
    "target_mp_terms = ['MP:0002110', 'MP:0000559']\n",
    "\n",
    "## All the data is paginated using the page and size parameters, by default the endpoint returns the first 20 hits\n",
    "gene_by_phenotypes_query = f\"{impc_api_search_url}/search/findAllBySignificantMpTermIdsContains?mpTermIds={','.join(target_mp_terms)}&page=0&size=20\"\n",
    "genes_with_morphology_mps = requests.get(gene_by_phenotypes_query).json()\n",
    "print(f\"Genes with {target_mp_terms}: {genes_with_morphology_mps['page']['totalElements']}\")\n",
    "list_of_gene_bundle_urls = [gene[\"_links\"][\"geneBundle\"]['href'] for gene in genes_with_morphology_mps['_embedded']['genes']]"
   ]
  },
  {
   "cell_type": "markdown",
   "metadata": {
    "pycharm": {
     "name": "#%% md\n"
    }
   },
   "source": [
    "### Now let's get the bundles from the heavy-weight `/geneBundles` endpoint (this may take a while):"
   ]
  },
  {
   "cell_type": "code",
   "execution_count": null,
   "metadata": {
    "pycharm": {
     "name": "#%%\n"
    }
   },
   "outputs": [
    {
     "ename": "KeyboardInterrupt",
     "evalue": "",
     "output_type": "error",
     "traceback": [
      "\u001B[0;31m---------------------------------------------------------------------------\u001B[0m",
      "\u001B[0;31mKeyboardInterrupt\u001B[0m                         Traceback (most recent call last)",
      "\u001B[0;32m/var/folders/6t/q23ywfs53dq21xf4krfm1pv4v_w8gv/T/ipykernel_22739/3089608679.py\u001B[0m in \u001B[0;36m<module>\u001B[0;34m\u001B[0m\n\u001B[1;32m      1\u001B[0m \u001B[0mgene_bundles\u001B[0m \u001B[0;34m=\u001B[0m \u001B[0;34m[\u001B[0m\u001B[0;34m]\u001B[0m\u001B[0;34m\u001B[0m\u001B[0;34m\u001B[0m\u001B[0m\n\u001B[1;32m      2\u001B[0m \u001B[0;32mfor\u001B[0m \u001B[0mgene_bundle_url\u001B[0m \u001B[0;32min\u001B[0m \u001B[0mlist_of_gene_bundle_urls\u001B[0m\u001B[0;34m:\u001B[0m\u001B[0;34m\u001B[0m\u001B[0;34m\u001B[0m\u001B[0m\n\u001B[0;32m----> 3\u001B[0;31m     \u001B[0mgene_bundle\u001B[0m \u001B[0;34m=\u001B[0m \u001B[0mrequests\u001B[0m\u001B[0;34m.\u001B[0m\u001B[0mget\u001B[0m\u001B[0;34m(\u001B[0m\u001B[0mgene_bundle_url\u001B[0m\u001B[0;34m)\u001B[0m\u001B[0;34m.\u001B[0m\u001B[0mjson\u001B[0m\u001B[0;34m(\u001B[0m\u001B[0;34m)\u001B[0m\u001B[0;34m\u001B[0m\u001B[0;34m\u001B[0m\u001B[0m\n\u001B[0m\u001B[1;32m      4\u001B[0m     \u001B[0mgene_bundles\u001B[0m\u001B[0;34m.\u001B[0m\u001B[0mappend\u001B[0m\u001B[0;34m(\u001B[0m\u001B[0mgene_bundle\u001B[0m\u001B[0;34m)\u001B[0m\u001B[0;34m\u001B[0m\u001B[0;34m\u001B[0m\u001B[0m\n\u001B[1;32m      5\u001B[0m \u001B[0;34m\u001B[0m\u001B[0m\n",
      "\u001B[0;32m~/git/impc-api-client/venv/lib/python3.9/site-packages/requests/api.py\u001B[0m in \u001B[0;36mget\u001B[0;34m(url, params, **kwargs)\u001B[0m\n\u001B[1;32m     73\u001B[0m     \"\"\"\n\u001B[1;32m     74\u001B[0m \u001B[0;34m\u001B[0m\u001B[0m\n\u001B[0;32m---> 75\u001B[0;31m     \u001B[0;32mreturn\u001B[0m \u001B[0mrequest\u001B[0m\u001B[0;34m(\u001B[0m\u001B[0;34m'get'\u001B[0m\u001B[0;34m,\u001B[0m \u001B[0murl\u001B[0m\u001B[0;34m,\u001B[0m \u001B[0mparams\u001B[0m\u001B[0;34m=\u001B[0m\u001B[0mparams\u001B[0m\u001B[0;34m,\u001B[0m \u001B[0;34m**\u001B[0m\u001B[0mkwargs\u001B[0m\u001B[0;34m)\u001B[0m\u001B[0;34m\u001B[0m\u001B[0;34m\u001B[0m\u001B[0m\n\u001B[0m\u001B[1;32m     76\u001B[0m \u001B[0;34m\u001B[0m\u001B[0m\n\u001B[1;32m     77\u001B[0m \u001B[0;34m\u001B[0m\u001B[0m\n",
      "\u001B[0;32m~/git/impc-api-client/venv/lib/python3.9/site-packages/requests/api.py\u001B[0m in \u001B[0;36mrequest\u001B[0;34m(method, url, **kwargs)\u001B[0m\n\u001B[1;32m     59\u001B[0m     \u001B[0;31m# cases, and look like a memory leak in others.\u001B[0m\u001B[0;34m\u001B[0m\u001B[0;34m\u001B[0m\u001B[0;34m\u001B[0m\u001B[0m\n\u001B[1;32m     60\u001B[0m     \u001B[0;32mwith\u001B[0m \u001B[0msessions\u001B[0m\u001B[0;34m.\u001B[0m\u001B[0mSession\u001B[0m\u001B[0;34m(\u001B[0m\u001B[0;34m)\u001B[0m \u001B[0;32mas\u001B[0m \u001B[0msession\u001B[0m\u001B[0;34m:\u001B[0m\u001B[0;34m\u001B[0m\u001B[0;34m\u001B[0m\u001B[0m\n\u001B[0;32m---> 61\u001B[0;31m         \u001B[0;32mreturn\u001B[0m \u001B[0msession\u001B[0m\u001B[0;34m.\u001B[0m\u001B[0mrequest\u001B[0m\u001B[0;34m(\u001B[0m\u001B[0mmethod\u001B[0m\u001B[0;34m=\u001B[0m\u001B[0mmethod\u001B[0m\u001B[0;34m,\u001B[0m \u001B[0murl\u001B[0m\u001B[0;34m=\u001B[0m\u001B[0murl\u001B[0m\u001B[0;34m,\u001B[0m \u001B[0;34m**\u001B[0m\u001B[0mkwargs\u001B[0m\u001B[0;34m)\u001B[0m\u001B[0;34m\u001B[0m\u001B[0;34m\u001B[0m\u001B[0m\n\u001B[0m\u001B[1;32m     62\u001B[0m \u001B[0;34m\u001B[0m\u001B[0m\n\u001B[1;32m     63\u001B[0m \u001B[0;34m\u001B[0m\u001B[0m\n",
      "\u001B[0;32m~/git/impc-api-client/venv/lib/python3.9/site-packages/requests/sessions.py\u001B[0m in \u001B[0;36mrequest\u001B[0;34m(self, method, url, params, data, headers, cookies, files, auth, timeout, allow_redirects, proxies, hooks, stream, verify, cert, json)\u001B[0m\n\u001B[1;32m    540\u001B[0m         }\n\u001B[1;32m    541\u001B[0m         \u001B[0msend_kwargs\u001B[0m\u001B[0;34m.\u001B[0m\u001B[0mupdate\u001B[0m\u001B[0;34m(\u001B[0m\u001B[0msettings\u001B[0m\u001B[0;34m)\u001B[0m\u001B[0;34m\u001B[0m\u001B[0;34m\u001B[0m\u001B[0m\n\u001B[0;32m--> 542\u001B[0;31m         \u001B[0mresp\u001B[0m \u001B[0;34m=\u001B[0m \u001B[0mself\u001B[0m\u001B[0;34m.\u001B[0m\u001B[0msend\u001B[0m\u001B[0;34m(\u001B[0m\u001B[0mprep\u001B[0m\u001B[0;34m,\u001B[0m \u001B[0;34m**\u001B[0m\u001B[0msend_kwargs\u001B[0m\u001B[0;34m)\u001B[0m\u001B[0;34m\u001B[0m\u001B[0;34m\u001B[0m\u001B[0m\n\u001B[0m\u001B[1;32m    543\u001B[0m \u001B[0;34m\u001B[0m\u001B[0m\n\u001B[1;32m    544\u001B[0m         \u001B[0;32mreturn\u001B[0m \u001B[0mresp\u001B[0m\u001B[0;34m\u001B[0m\u001B[0;34m\u001B[0m\u001B[0m\n",
      "\u001B[0;32m~/git/impc-api-client/venv/lib/python3.9/site-packages/requests/sessions.py\u001B[0m in \u001B[0;36msend\u001B[0;34m(self, request, **kwargs)\u001B[0m\n\u001B[1;32m    653\u001B[0m \u001B[0;34m\u001B[0m\u001B[0m\n\u001B[1;32m    654\u001B[0m         \u001B[0;31m# Send the request\u001B[0m\u001B[0;34m\u001B[0m\u001B[0;34m\u001B[0m\u001B[0;34m\u001B[0m\u001B[0m\n\u001B[0;32m--> 655\u001B[0;31m         \u001B[0mr\u001B[0m \u001B[0;34m=\u001B[0m \u001B[0madapter\u001B[0m\u001B[0;34m.\u001B[0m\u001B[0msend\u001B[0m\u001B[0;34m(\u001B[0m\u001B[0mrequest\u001B[0m\u001B[0;34m,\u001B[0m \u001B[0;34m**\u001B[0m\u001B[0mkwargs\u001B[0m\u001B[0;34m)\u001B[0m\u001B[0;34m\u001B[0m\u001B[0;34m\u001B[0m\u001B[0m\n\u001B[0m\u001B[1;32m    656\u001B[0m \u001B[0;34m\u001B[0m\u001B[0m\n\u001B[1;32m    657\u001B[0m         \u001B[0;31m# Total elapsed time of the request (approximately)\u001B[0m\u001B[0;34m\u001B[0m\u001B[0;34m\u001B[0m\u001B[0;34m\u001B[0m\u001B[0m\n",
      "\u001B[0;32m~/git/impc-api-client/venv/lib/python3.9/site-packages/requests/adapters.py\u001B[0m in \u001B[0;36msend\u001B[0;34m(self, request, stream, timeout, verify, cert, proxies)\u001B[0m\n\u001B[1;32m    437\u001B[0m         \u001B[0;32mtry\u001B[0m\u001B[0;34m:\u001B[0m\u001B[0;34m\u001B[0m\u001B[0;34m\u001B[0m\u001B[0m\n\u001B[1;32m    438\u001B[0m             \u001B[0;32mif\u001B[0m \u001B[0;32mnot\u001B[0m \u001B[0mchunked\u001B[0m\u001B[0;34m:\u001B[0m\u001B[0;34m\u001B[0m\u001B[0;34m\u001B[0m\u001B[0m\n\u001B[0;32m--> 439\u001B[0;31m                 resp = conn.urlopen(\n\u001B[0m\u001B[1;32m    440\u001B[0m                     \u001B[0mmethod\u001B[0m\u001B[0;34m=\u001B[0m\u001B[0mrequest\u001B[0m\u001B[0;34m.\u001B[0m\u001B[0mmethod\u001B[0m\u001B[0;34m,\u001B[0m\u001B[0;34m\u001B[0m\u001B[0;34m\u001B[0m\u001B[0m\n\u001B[1;32m    441\u001B[0m                     \u001B[0murl\u001B[0m\u001B[0;34m=\u001B[0m\u001B[0murl\u001B[0m\u001B[0;34m,\u001B[0m\u001B[0;34m\u001B[0m\u001B[0;34m\u001B[0m\u001B[0m\n",
      "\u001B[0;32m~/git/impc-api-client/venv/lib/python3.9/site-packages/urllib3/connectionpool.py\u001B[0m in \u001B[0;36murlopen\u001B[0;34m(self, method, url, body, headers, retries, redirect, assert_same_host, timeout, pool_timeout, release_conn, chunked, body_pos, **response_kw)\u001B[0m\n\u001B[1;32m    697\u001B[0m \u001B[0;34m\u001B[0m\u001B[0m\n\u001B[1;32m    698\u001B[0m             \u001B[0;31m# Make the request on the httplib connection object.\u001B[0m\u001B[0;34m\u001B[0m\u001B[0;34m\u001B[0m\u001B[0;34m\u001B[0m\u001B[0m\n\u001B[0;32m--> 699\u001B[0;31m             httplib_response = self._make_request(\n\u001B[0m\u001B[1;32m    700\u001B[0m                 \u001B[0mconn\u001B[0m\u001B[0;34m,\u001B[0m\u001B[0;34m\u001B[0m\u001B[0;34m\u001B[0m\u001B[0m\n\u001B[1;32m    701\u001B[0m                 \u001B[0mmethod\u001B[0m\u001B[0;34m,\u001B[0m\u001B[0;34m\u001B[0m\u001B[0;34m\u001B[0m\u001B[0m\n",
      "\u001B[0;32m~/git/impc-api-client/venv/lib/python3.9/site-packages/urllib3/connectionpool.py\u001B[0m in \u001B[0;36m_make_request\u001B[0;34m(self, conn, method, url, timeout, chunked, **httplib_request_kw)\u001B[0m\n\u001B[1;32m    443\u001B[0m                     \u001B[0;31m# Python 3 (including for exceptions like SystemExit).\u001B[0m\u001B[0;34m\u001B[0m\u001B[0;34m\u001B[0m\u001B[0;34m\u001B[0m\u001B[0m\n\u001B[1;32m    444\u001B[0m                     \u001B[0;31m# Otherwise it looks like a bug in the code.\u001B[0m\u001B[0;34m\u001B[0m\u001B[0;34m\u001B[0m\u001B[0;34m\u001B[0m\u001B[0m\n\u001B[0;32m--> 445\u001B[0;31m                     \u001B[0msix\u001B[0m\u001B[0;34m.\u001B[0m\u001B[0mraise_from\u001B[0m\u001B[0;34m(\u001B[0m\u001B[0me\u001B[0m\u001B[0;34m,\u001B[0m \u001B[0;32mNone\u001B[0m\u001B[0;34m)\u001B[0m\u001B[0;34m\u001B[0m\u001B[0;34m\u001B[0m\u001B[0m\n\u001B[0m\u001B[1;32m    446\u001B[0m         \u001B[0;32mexcept\u001B[0m \u001B[0;34m(\u001B[0m\u001B[0mSocketTimeout\u001B[0m\u001B[0;34m,\u001B[0m \u001B[0mBaseSSLError\u001B[0m\u001B[0;34m,\u001B[0m \u001B[0mSocketError\u001B[0m\u001B[0;34m)\u001B[0m \u001B[0;32mas\u001B[0m \u001B[0me\u001B[0m\u001B[0;34m:\u001B[0m\u001B[0;34m\u001B[0m\u001B[0;34m\u001B[0m\u001B[0m\n\u001B[1;32m    447\u001B[0m             \u001B[0mself\u001B[0m\u001B[0;34m.\u001B[0m\u001B[0m_raise_timeout\u001B[0m\u001B[0;34m(\u001B[0m\u001B[0merr\u001B[0m\u001B[0;34m=\u001B[0m\u001B[0me\u001B[0m\u001B[0;34m,\u001B[0m \u001B[0murl\u001B[0m\u001B[0;34m=\u001B[0m\u001B[0murl\u001B[0m\u001B[0;34m,\u001B[0m \u001B[0mtimeout_value\u001B[0m\u001B[0;34m=\u001B[0m\u001B[0mread_timeout\u001B[0m\u001B[0;34m)\u001B[0m\u001B[0;34m\u001B[0m\u001B[0;34m\u001B[0m\u001B[0m\n",
      "\u001B[0;32m~/git/impc-api-client/venv/lib/python3.9/site-packages/urllib3/packages/six.py\u001B[0m in \u001B[0;36mraise_from\u001B[0;34m(value, from_value)\u001B[0m\n",
      "\u001B[0;32m~/git/impc-api-client/venv/lib/python3.9/site-packages/urllib3/connectionpool.py\u001B[0m in \u001B[0;36m_make_request\u001B[0;34m(self, conn, method, url, timeout, chunked, **httplib_request_kw)\u001B[0m\n\u001B[1;32m    438\u001B[0m                 \u001B[0;31m# Python 3\u001B[0m\u001B[0;34m\u001B[0m\u001B[0;34m\u001B[0m\u001B[0;34m\u001B[0m\u001B[0m\n\u001B[1;32m    439\u001B[0m                 \u001B[0;32mtry\u001B[0m\u001B[0;34m:\u001B[0m\u001B[0;34m\u001B[0m\u001B[0;34m\u001B[0m\u001B[0m\n\u001B[0;32m--> 440\u001B[0;31m                     \u001B[0mhttplib_response\u001B[0m \u001B[0;34m=\u001B[0m \u001B[0mconn\u001B[0m\u001B[0;34m.\u001B[0m\u001B[0mgetresponse\u001B[0m\u001B[0;34m(\u001B[0m\u001B[0;34m)\u001B[0m\u001B[0;34m\u001B[0m\u001B[0;34m\u001B[0m\u001B[0m\n\u001B[0m\u001B[1;32m    441\u001B[0m                 \u001B[0;32mexcept\u001B[0m \u001B[0mBaseException\u001B[0m \u001B[0;32mas\u001B[0m \u001B[0me\u001B[0m\u001B[0;34m:\u001B[0m\u001B[0;34m\u001B[0m\u001B[0;34m\u001B[0m\u001B[0m\n\u001B[1;32m    442\u001B[0m                     \u001B[0;31m# Remove the TypeError from the exception chain in\u001B[0m\u001B[0;34m\u001B[0m\u001B[0;34m\u001B[0m\u001B[0;34m\u001B[0m\u001B[0m\n",
      "\u001B[0;32m/usr/local/Cellar/python@3.9/3.9.5/Frameworks/Python.framework/Versions/3.9/lib/python3.9/http/client.py\u001B[0m in \u001B[0;36mgetresponse\u001B[0;34m(self)\u001B[0m\n\u001B[1;32m   1343\u001B[0m         \u001B[0;32mtry\u001B[0m\u001B[0;34m:\u001B[0m\u001B[0;34m\u001B[0m\u001B[0;34m\u001B[0m\u001B[0m\n\u001B[1;32m   1344\u001B[0m             \u001B[0;32mtry\u001B[0m\u001B[0;34m:\u001B[0m\u001B[0;34m\u001B[0m\u001B[0;34m\u001B[0m\u001B[0m\n\u001B[0;32m-> 1345\u001B[0;31m                 \u001B[0mresponse\u001B[0m\u001B[0;34m.\u001B[0m\u001B[0mbegin\u001B[0m\u001B[0;34m(\u001B[0m\u001B[0;34m)\u001B[0m\u001B[0;34m\u001B[0m\u001B[0;34m\u001B[0m\u001B[0m\n\u001B[0m\u001B[1;32m   1346\u001B[0m             \u001B[0;32mexcept\u001B[0m \u001B[0mConnectionError\u001B[0m\u001B[0;34m:\u001B[0m\u001B[0;34m\u001B[0m\u001B[0;34m\u001B[0m\u001B[0m\n\u001B[1;32m   1347\u001B[0m                 \u001B[0mself\u001B[0m\u001B[0;34m.\u001B[0m\u001B[0mclose\u001B[0m\u001B[0;34m(\u001B[0m\u001B[0;34m)\u001B[0m\u001B[0;34m\u001B[0m\u001B[0;34m\u001B[0m\u001B[0m\n",
      "\u001B[0;32m/usr/local/Cellar/python@3.9/3.9.5/Frameworks/Python.framework/Versions/3.9/lib/python3.9/http/client.py\u001B[0m in \u001B[0;36mbegin\u001B[0;34m(self)\u001B[0m\n\u001B[1;32m    305\u001B[0m         \u001B[0;31m# read until we get a non-100 response\u001B[0m\u001B[0;34m\u001B[0m\u001B[0;34m\u001B[0m\u001B[0;34m\u001B[0m\u001B[0m\n\u001B[1;32m    306\u001B[0m         \u001B[0;32mwhile\u001B[0m \u001B[0;32mTrue\u001B[0m\u001B[0;34m:\u001B[0m\u001B[0;34m\u001B[0m\u001B[0;34m\u001B[0m\u001B[0m\n\u001B[0;32m--> 307\u001B[0;31m             \u001B[0mversion\u001B[0m\u001B[0;34m,\u001B[0m \u001B[0mstatus\u001B[0m\u001B[0;34m,\u001B[0m \u001B[0mreason\u001B[0m \u001B[0;34m=\u001B[0m \u001B[0mself\u001B[0m\u001B[0;34m.\u001B[0m\u001B[0m_read_status\u001B[0m\u001B[0;34m(\u001B[0m\u001B[0;34m)\u001B[0m\u001B[0;34m\u001B[0m\u001B[0;34m\u001B[0m\u001B[0m\n\u001B[0m\u001B[1;32m    308\u001B[0m             \u001B[0;32mif\u001B[0m \u001B[0mstatus\u001B[0m \u001B[0;34m!=\u001B[0m \u001B[0mCONTINUE\u001B[0m\u001B[0;34m:\u001B[0m\u001B[0;34m\u001B[0m\u001B[0;34m\u001B[0m\u001B[0m\n\u001B[1;32m    309\u001B[0m                 \u001B[0;32mbreak\u001B[0m\u001B[0;34m\u001B[0m\u001B[0;34m\u001B[0m\u001B[0m\n",
      "\u001B[0;32m/usr/local/Cellar/python@3.9/3.9.5/Frameworks/Python.framework/Versions/3.9/lib/python3.9/http/client.py\u001B[0m in \u001B[0;36m_read_status\u001B[0;34m(self)\u001B[0m\n\u001B[1;32m    266\u001B[0m \u001B[0;34m\u001B[0m\u001B[0m\n\u001B[1;32m    267\u001B[0m     \u001B[0;32mdef\u001B[0m \u001B[0m_read_status\u001B[0m\u001B[0;34m(\u001B[0m\u001B[0mself\u001B[0m\u001B[0;34m)\u001B[0m\u001B[0;34m:\u001B[0m\u001B[0;34m\u001B[0m\u001B[0;34m\u001B[0m\u001B[0m\n\u001B[0;32m--> 268\u001B[0;31m         \u001B[0mline\u001B[0m \u001B[0;34m=\u001B[0m \u001B[0mstr\u001B[0m\u001B[0;34m(\u001B[0m\u001B[0mself\u001B[0m\u001B[0;34m.\u001B[0m\u001B[0mfp\u001B[0m\u001B[0;34m.\u001B[0m\u001B[0mreadline\u001B[0m\u001B[0;34m(\u001B[0m\u001B[0m_MAXLINE\u001B[0m \u001B[0;34m+\u001B[0m \u001B[0;36m1\u001B[0m\u001B[0;34m)\u001B[0m\u001B[0;34m,\u001B[0m \u001B[0;34m\"iso-8859-1\"\u001B[0m\u001B[0;34m)\u001B[0m\u001B[0;34m\u001B[0m\u001B[0;34m\u001B[0m\u001B[0m\n\u001B[0m\u001B[1;32m    269\u001B[0m         \u001B[0;32mif\u001B[0m \u001B[0mlen\u001B[0m\u001B[0;34m(\u001B[0m\u001B[0mline\u001B[0m\u001B[0;34m)\u001B[0m \u001B[0;34m>\u001B[0m \u001B[0m_MAXLINE\u001B[0m\u001B[0;34m:\u001B[0m\u001B[0;34m\u001B[0m\u001B[0;34m\u001B[0m\u001B[0m\n\u001B[1;32m    270\u001B[0m             \u001B[0;32mraise\u001B[0m \u001B[0mLineTooLong\u001B[0m\u001B[0;34m(\u001B[0m\u001B[0;34m\"status line\"\u001B[0m\u001B[0;34m)\u001B[0m\u001B[0;34m\u001B[0m\u001B[0;34m\u001B[0m\u001B[0m\n",
      "\u001B[0;32m/usr/local/Cellar/python@3.9/3.9.5/Frameworks/Python.framework/Versions/3.9/lib/python3.9/socket.py\u001B[0m in \u001B[0;36mreadinto\u001B[0;34m(self, b)\u001B[0m\n\u001B[1;32m    702\u001B[0m         \u001B[0;32mwhile\u001B[0m \u001B[0;32mTrue\u001B[0m\u001B[0;34m:\u001B[0m\u001B[0;34m\u001B[0m\u001B[0;34m\u001B[0m\u001B[0m\n\u001B[1;32m    703\u001B[0m             \u001B[0;32mtry\u001B[0m\u001B[0;34m:\u001B[0m\u001B[0;34m\u001B[0m\u001B[0;34m\u001B[0m\u001B[0m\n\u001B[0;32m--> 704\u001B[0;31m                 \u001B[0;32mreturn\u001B[0m \u001B[0mself\u001B[0m\u001B[0;34m.\u001B[0m\u001B[0m_sock\u001B[0m\u001B[0;34m.\u001B[0m\u001B[0mrecv_into\u001B[0m\u001B[0;34m(\u001B[0m\u001B[0mb\u001B[0m\u001B[0;34m)\u001B[0m\u001B[0;34m\u001B[0m\u001B[0;34m\u001B[0m\u001B[0m\n\u001B[0m\u001B[1;32m    705\u001B[0m             \u001B[0;32mexcept\u001B[0m \u001B[0mtimeout\u001B[0m\u001B[0;34m:\u001B[0m\u001B[0;34m\u001B[0m\u001B[0;34m\u001B[0m\u001B[0m\n\u001B[1;32m    706\u001B[0m                 \u001B[0mself\u001B[0m\u001B[0;34m.\u001B[0m\u001B[0m_timeout_occurred\u001B[0m \u001B[0;34m=\u001B[0m \u001B[0;32mTrue\u001B[0m\u001B[0;34m\u001B[0m\u001B[0;34m\u001B[0m\u001B[0m\n",
      "\u001B[0;31mKeyboardInterrupt\u001B[0m: "
     ]
    }
   ],
   "source": [
    "gene_bundles = []\n",
    "for gene_bundle_url in list_of_gene_bundle_urls:\n",
    "    gene_bundle = requests.get(gene_bundle_url).json()\n",
    "    gene_bundles.append(gene_bundle)\n",
    "\n",
    "images_with_morphology_mps = []\n",
    "\n",
    "## Doing just the first 20 and filtering out fields on the images\n",
    "display_fields = ['geneSymbol', 'parameterName', 'biologicalSampleGroup', 'colonyId', 'zygosity', 'sex', 'downloadUrl', 'externalSampleId', 'thumbnailUrl']\n",
    "for gene_bundle in gene_bundles[:20]:\n",
    "    if \"geneImages\" in gene_bundle and gene_bundle[\"geneImages\"] is not None:\n",
    "        images = gene_bundle[\"geneImages\"]\n",
    "        for image in images:\n",
    "            display_image = {k:v for k,v in image.items() if k in display_fields}\n",
    "            images_with_morphology_mps.append(display_image)\n",
    "\n",
    "images_table = []\n",
    "\n",
    "## Displaying just the first 20 images\n",
    "for i in images_with_morphology_mps[:20]:\n",
    "    row = [f\"<img src='{i['thumbnailUrl']}' />\"] + list(i.values())\n",
    "    images_table.append(row)\n",
    "\n",
    "display(HTML(tabulate.tabulate(images_table, headers=[\"thumbnail\"] + list(images_with_morphology_mps[0].keys()) , tablefmt='unsafehtml')))"
   ]
  },
  {
   "cell_type": "markdown",
   "metadata": {
    "pycharm": {
     "name": "#%% md\n"
    }
   },
   "source": [
    "### 9. Which parameters have been measured for a particular gene"
   ]
  },
  {
   "cell_type": "code",
   "execution_count": null,
   "metadata": {
    "pycharm": {
     "name": "#%%\n"
    }
   },
   "outputs": [],
   "source": [
    "# Using Cib2 MGI:1929293\n",
    "cib2_gene_query = f\"{impc_api_search_url}/search/getGeneByMgiAccessionId?mgiAccessionId=MGI:1929293\"\n",
    "cib2_gene_data = requests.get(cib2_gene_query).json()\n",
    "cib2_gene_parameters = cib2_gene_data[\"testedParameters\"]\n",
    "headers = {'parameterName': 'Parameter name', 'parameterStableId': 'Parameter stable id', 'pipelineName': 'Pipeline name', 'pipelineStableId': 'Pipeline stable id', 'procedureName': 'Procedure name', 'procedureStableId': 'Procedure stable id'}\n",
    "print('Tested parameters for Cib2')\n",
    "display(HTML(tabulate.tabulate(cib2_gene_parameters, headers=headers, tablefmt='unsafehtml')))"
   ]
  },
  {
   "cell_type": "markdown",
   "metadata": {
    "pycharm": {
     "name": "#%% md\n"
    }
   },
   "source": [
    "### 10. Which parameters identified a significant finding for a particular knockout"
   ]
  },
  {
   "cell_type": "markdown",
   "metadata": {
    "pycharm": {
     "name": "#%% md\n"
    }
   },
   "source": [
    "### 11. How many gene have been measured inside a particular pipeline"
   ]
  },
  {
   "cell_type": "code",
   "execution_count": null,
   "metadata": {
    "pycharm": {
     "name": "#%%\n"
    }
   },
   "outputs": [],
   "source": [
    "# Using IMPC_001 -> IMPC Standard Early Adult Pipeline\n",
    "genes_by_tested_pipeline_query = f\"{impc_api_search_url}/search/findAllByTestedPipelineId?pipelineId=IMPC_001&size=0\"\n",
    "impc_001_tested_genes_req = requests.get(genes_by_tested_pipeline_query, headers={\"Accept\": \"application/json\"})\n",
    "print(f'Total measured genes for IMPC_001: {impc_001_tested_genes_req.json()[\"page\"][\"totalElements\"]}')\n"
   ]
  },
  {
   "cell_type": "markdown",
   "metadata": {
    "pycharm": {
     "name": "#%% md\n"
    }
   },
   "source": [
    "### 12. Extract all genes and corresponding phenotypes related to a particular organ system (via MP terms from organic systems; similar search as significant phenotypes)"
   ]
  },
  {
   "cell_type": "code",
   "execution_count": null,
   "metadata": {
    "pycharm": {
     "name": "#%%\n"
    }
   },
   "outputs": [],
   "source": [
    "# using MP:0005391 (vision/eye phenotype)\n",
    "target_mp_terms = ['MP:0005391']\n",
    "\n",
    "## All the data is paginated using the page and size parameters, by default the endpoint returns the first 20 hits\n",
    "gene_by_top_level_phenotypes_query = f\"{impc_api_search_url}/search/findAllBySignificantTopLevelMpTermIdsContains?mpTermIds={','.join(target_mp_terms)}&page=0&size=20\"\n",
    "\n",
    "genes_with_vision_eye_phenotypes = requests.get(gene_by_top_level_phenotypes_query).json()\n",
    "print(f\"Genes with {target_mp_terms}: {genes_with_vision_eye_phenotypes['page']['totalElements']}\")\n",
    "list_of_genes = []\n",
    "\n",
    "for gene in genes_with_vision_eye_phenotypes['_embedded']['genes']:\n",
    "    gene_dict = {\"gene_accession_id\": gene['mgiAccessionId'], \"gene_name\": gene['markerName'], \"gene_bundle_url\": gene[\"_links\"][\"geneBundle\"]['href']}\n",
    "    list_of_genes.append(gene_dict)\n",
    "\n",
    "display(HTML(tabulate.tabulate([i.values() for i in list_of_genes], headers=list_of_genes[0].keys(), tablefmt='html')))"
   ]
  },
  {
   "cell_type": "markdown",
   "metadata": {
    "pycharm": {
     "name": "#%% md\n"
    }
   },
   "source": [
    "### 13. Full table of genes and all identified phenotypes"
   ]
  },
  {
   "cell_type": "code",
   "execution_count": null,
   "metadata": {
    "pycharm": {
     "name": "#%%\n"
    }
   },
   "outputs": [],
   "source": [
    "page_size = 1000\n",
    "complete_list_gene_page_info_query = f\"{impc_api_search_url}?size={page_size}&page=0\"\n",
    "\n",
    "complete_list_gene_first_page_info = requests.get(complete_list_gene_page_info_query).json()\n",
    "\n",
    "total_pages = complete_list_gene_first_page_info[\"page\"][\"totalPages\"]\n",
    "complete_gene_list = complete_list_gene_first_page_info[\"_embedded\"]\n",
    "\n",
    "for page_number in trange(1, total_pages):\n",
    "    page_query = f\"{impc_api_search_url}?size={page_size}&page={page_number}\"\n",
    "    page_genes = requests.get(page_query).json()[\"_embedded\"]\n",
    "    complete_gene_list += page_genes\n",
    "\n",
    "print(len(complete_gene_list))"
   ]
  },
  {
   "cell_type": "code",
   "execution_count": null,
   "metadata": {
    "pycharm": {
     "name": "#%%\n"
    }
   },
   "outputs": [],
   "source": []
  }
 ],
 "metadata": {
  "kernelspec": {
   "display_name": "Python 3 (ipykernel)",
   "language": "python",
   "name": "python3"
  },
  "language_info": {
   "codemirror_mode": {
    "name": "ipython",
    "version": 3
   },
   "file_extension": ".py",
   "mimetype": "text/x-python",
   "name": "python",
   "nbconvert_exporter": "python",
   "pygments_lexer": "ipython3",
   "version": "3.9.5"
  }
 },
 "nbformat": 4,
 "nbformat_minor": 1
}